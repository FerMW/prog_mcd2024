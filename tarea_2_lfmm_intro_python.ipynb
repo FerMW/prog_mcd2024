{
  "cells": [
    {
      "cell_type": "markdown",
      "metadata": {
        "id": "tINzyIBGaVOa"
      },
      "source": [
        "<a href=\"https://colab.research.google.com/github/mcd-unison/material-programacion/blob/main/intro-python.ipynb\" target=\"_parent\"><img src=\"https://colab.research.google.com/assets/colab-badge.svg\" alt=\"Open In Colab\"/></a>"
      ]
    },
    {
      "cell_type": "markdown",
      "metadata": {
        "id": "JBueklL8aVOc"
      },
      "source": [
        "<center>\n",
        "<p><img src=\"https://mcd.unison.mx/wp-content/themes/awaken/img/logo_mcd.png\" width=\"100\">\n",
        "</p>\n",
        "\n",
        "\n",
        "\n",
        "# Curso Propedéutico en *Programación*\n",
        "\n",
        "## Introducción a `python` resolviendo preguntas\n",
        "\n",
        "\n",
        "**Julio Waissman Vilanova**\n",
        "\n",
        "##### Tarea completada por: Luis Fernando Martinez Mendoza\n",
        "\n",
        "Enlace a GitHub:\n",
        "\n",
        "[Notebook Intro Python]()\n"
      ]
    },
    {
      "cell_type": "markdown",
      "metadata": {
        "id": "yOyl1JcpaVOc"
      },
      "source": [
        "### Tipos\n",
        "\n",
        "¿Cuales son los tipos de datos básicos? Revisa los tipos siguientes:\n",
        "\n",
        "1. Tipos numéricos `int`, `float`, `complex`\n",
        "2. Cadenas de caracteres\n",
        "3. Tuplas\n",
        "4. Listas\n",
        "5. Diccionarios\n",
        "6. Conjuntos\n",
        "\n",
        "Da ejemplo de sobrecarga de operadores (en particular `+` y `*`)\n",
        "\n"
      ]
    },
    {
      "cell_type": "code",
      "execution_count": null,
      "metadata": {
        "id": "3_8AERayaVOc",
        "outputId": "7c6af78f-f401-4de3-d902-82b91c31d6c7",
        "colab": {
          "base_uri": "https://localhost:8080/"
        }
      },
      "outputs": [
        {
          "output_type": "stream",
          "name": "stdout",
          "text": [
            "Suma de enteros: 5\n",
            "Suma de strings: MCD_2024\n",
            "Multiplicacion de entero por entero: 64\n",
            "Multiplicacion de entero por string: hahaha!\n"
          ]
        }
      ],
      "source": [
        "#Ejemplo de sobrecarga con el operador \"+\"\n",
        "print(\"Suma de enteros:\", 2+3)\n",
        "print(\"Suma de strings:\", \"MCD\" + \"_\" + \"2024\")\n",
        "\n",
        "#Ejemplo de sobrecarga con el operador \"*\"\n",
        "print(\"Multiplicacion de entero por entero:\", 8*8)\n",
        "print(\"Multiplicacion de entero por string:\", 3*\"ha\"+\"!\")"
      ]
    },
    {
      "cell_type": "markdown",
      "metadata": {
        "id": "A6SnusFpaVOd"
      },
      "source": [
        "¿Que significa que unos tipos sean *mutables* y otros *inmutables*?\n",
        "\n",
        "Realiza un pequeño programa donde quede claro lo que significa que un tipo de datos sea mutable, e ilustra el uso del método `copy.deepcopy()`."
      ]
    },
    {
      "cell_type": "code",
      "execution_count": null,
      "metadata": {
        "id": "kRfRukTZaVOd",
        "outputId": "0940b44b-1c8a-404b-8855-91750878b5e0",
        "colab": {
          "base_uri": "https://localhost:8080/"
        }
      },
      "outputs": [
        {
          "output_type": "stream",
          "name": "stdout",
          "text": [
            "Creamos lista original (l1)\n",
            "l1 [25, 'hey', 34.16, 'listen!']\n",
            "\n",
            "Creamos 'copia' l2 (apunta a mismo espacio de memoria)\n",
            "l2 [25, 'hey', 34.16, 'listen!']\n",
            "\n",
            "Modificamos la lista original (l1) y vemos como afecta tambien a l2\n",
            "l1 [25, '!!!', 34.16, 'listen!']\n",
            "l2 [25, '!!!', 34.16, 'listen!']\n",
            "\n",
            "Para crear un copia separada (l3) en otro espacio de memoria, importamos y utilizamos el modulo 'copy'\n",
            "l3 [25, '!!!', 34.16, 'listen!']\n",
            "\n",
            "Modificamos una vez mas l1 para demostrar que no afectara a l3\n",
            "l1 [25, '!!!', [89.99, \"it's dangerous to go alone\"], 'listen!']\n",
            "l3 [25, '!!!', 34.16, 'listen!']\n"
          ]
        }
      ],
      "source": [
        "print(\"Creamos lista original (l1)\")\n",
        "l1 = [25, \"hey\", 34.16, \"listen!\"]\n",
        "print(\"l1\", l1)\n",
        "\n",
        "print(\"\\nCreamos 'copia' l2 (apunta a mismo espacio de memoria)\")\n",
        "l2 = l1\n",
        "print(\"l2\", l2)\n",
        "\n",
        "print(\"\\nModificamos la lista original (l1) y vemos como afecta tambien a l2\")\n",
        "l1[1] = \"!!!\"\n",
        "print(\"l1\", l1)\n",
        "print(\"l2\", l2)\n",
        "\n",
        "print(\"\\nPara crear un copia separada (l3) en otro espacio de memoria, importamos y utilizamos el modulo 'copy'\")\n",
        "import copy\n",
        "l3 = copy.deepcopy(l1)\n",
        "print(\"l3\", l3)\n",
        "\n",
        "print(\"\\nModificamos una vez mas l1 para demostrar que no afectara a l3\")\n",
        "l1[2] = [89.99, \"it's dangerous to go alone\"]\n",
        "print(\"l1\", l1)\n",
        "print(\"l3\", l3)\n"
      ]
    },
    {
      "cell_type": "markdown",
      "metadata": {
        "id": "5GyMHzYyaVOd"
      },
      "source": [
        "### *Comprehension* de listas, conjuntos y diccionarios\n",
        "\n",
        "Escribe, en una sola linea, una expresión que genere una lista con todos los números enteros que se encuentran entre $1$ y $n$\n",
        "que sean divisibles por $3$ y $7$ y que el dígito menos significativo del número sea $6$."
      ]
    },
    {
      "cell_type": "code",
      "execution_count": null,
      "metadata": {
        "id": "uJw2y5ztaVOe",
        "outputId": "703539bb-9e3b-4a33-fcdc-9dff0674c895",
        "colab": {
          "base_uri": "https://localhost:8080/"
        }
      },
      "outputs": [
        {
          "output_type": "execute_result",
          "data": {
            "text/plain": [
              "[126,\n",
              " 336,\n",
              " 546,\n",
              " 756,\n",
              " 966,\n",
              " 1176,\n",
              " 1386,\n",
              " 1596,\n",
              " 1806,\n",
              " 2016,\n",
              " 2226,\n",
              " 2436,\n",
              " 2646,\n",
              " 2856,\n",
              " 3066,\n",
              " 3276,\n",
              " 3486,\n",
              " 3696,\n",
              " 3906,\n",
              " 4116,\n",
              " 4326,\n",
              " 4536,\n",
              " 4746,\n",
              " 4956,\n",
              " 5166,\n",
              " 5376,\n",
              " 5586,\n",
              " 5796,\n",
              " 6006,\n",
              " 6216,\n",
              " 6426,\n",
              " 6636,\n",
              " 6846,\n",
              " 7056,\n",
              " 7266,\n",
              " 7476,\n",
              " 7686,\n",
              " 7896,\n",
              " 8106,\n",
              " 8316,\n",
              " 8526,\n",
              " 8736,\n",
              " 8946,\n",
              " 9156,\n",
              " 9366,\n",
              " 9576,\n",
              " 9786,\n",
              " 9996]"
            ]
          },
          "metadata": {},
          "execution_count": 172
        }
      ],
      "source": [
        "n = 10_000\n",
        "\n",
        "# Escribe aqui el *one linner*\n",
        "lista_comp = [x for x in range(1, n+1) if (x%3==0 and x%7==0 and x%10==6)]\n",
        "lista_comp\n"
      ]
    },
    {
      "cell_type": "markdown",
      "metadata": {
        "id": "x1XNGBHEaVOe"
      },
      "source": [
        "### Funciones\n",
        "\n",
        "Escribe una función que:\n",
        "\n",
        "1. reciba una lista de elementos (letras, números, lo que sea),\n",
        "2. cuente la ocurrencia de cada elemento en la lista,\n",
        "3. devuelva las ocurrencias en forma de diccionario,\n",
        "4. si imprime es True, imprima un histograma de ocurrencias, por ejemplo:\n",
        "\n",
        "```python\n",
        "\n",
        "lista = [1,'a',1, 13, 'hola', 'a', 1, 1, 'a', 1]\n",
        "\n",
        "d = funcion_ejemplo(lista, imprime = True)\n",
        "\n",
        "1    \t\t***** \t(5 -> 50%)\n",
        "'a'  \t\t***   \t(3 -> 30%)\n",
        "13\t\t*\t(1 -> 10%)\n",
        "'hola'\t\t*\t(1 -> 10%)\n",
        "\n",
        "```"
      ]
    },
    {
      "cell_type": "code",
      "execution_count": null,
      "metadata": {
        "id": "wi-Sl8MWaVOe"
      },
      "outputs": [],
      "source": [
        "# Escribe la función aquí\n",
        "def funcion_ejemplo(lista, imprime=True):\n",
        "  \"\"\"\n",
        "  Funcion para contar la ocurrencia de cada elemento de una lista, devolver la cantidad de ocurrencias,\n",
        "  e imprimir un histograma en terminal de indicarlo via el argumento 'imprime'\n",
        "\n",
        "  Args:\n",
        "    lista (list): Lista de entrada\n",
        "\n",
        "  Returns:\n",
        "    dict: Diccionario de ocurrencias\n",
        "\n",
        "  \"\"\"\n",
        "\n",
        "  list_set = set(lista)\n",
        "  d = {item: lista.count(item) for item in list_set}\n",
        "\n",
        "  if imprime:\n",
        "    for key, value in d.items():\n",
        "      print(f\"{key} {value*'*'} ({value} -> {((value*100)/len(lista))}%)\")\n",
        "\n",
        "  return d"
      ]
    },
    {
      "cell_type": "code",
      "execution_count": null,
      "metadata": {
        "id": "g9X5oVP2aVOf",
        "outputId": "0c179fec-d0db-48c8-f171-ffebccb482d0",
        "colab": {
          "base_uri": "https://localhost:8080/"
        }
      },
      "outputs": [
        {
          "output_type": "stream",
          "name": "stdout",
          "text": [
            "1 ***** (5 -> 50.0%)\n",
            "13 * (1 -> 10.0%)\n",
            "a *** (3 -> 30.0%)\n",
            "hola * (1 -> 10.0%)\n",
            "{1: 5, 13: 1, 'a': 3, 'hola': 1}\n"
          ]
        }
      ],
      "source": [
        "# Realiza pruebas aquí\n",
        "lista = [1,'a',1, 13, 'hola', 'a', 1, 1, 'a', 1]\n",
        "d = funcion_ejemplo(lista, imprime = True)\n",
        "print(d)"
      ]
    },
    {
      "cell_type": "markdown",
      "metadata": {
        "id": "uue3nF1AaVOf"
      },
      "source": [
        "Escribe una función que modifique un diccionario y regrese el diccionario modificado y una copia del original, donde cada entrada\n",
        "del diccionario sea una lista de valores. Ten en cuenta que si una entrada del diccionario es de tipo mutable, al modificarlo en la\n",
        "copia se modifica el original. Utiliza el modulo `copy` para evitar este problema. Ejemplo de la función:\n",
        "\n",
        "```python\n",
        "dic1 = {'Pepe':[12, 'enero', 1980], 'Carolina':[15,'mayo',1975],'Paco':[10,'nov',1970]}\n",
        "dic2 = fundicos(dic1, 'Pepe', 1, 'febrero')\n",
        "\n",
        "print(dic1)\n",
        "{'Pepe':[12, 'enero', 1980], 'Carolina':[15,'mayo',1975],'Paco':[10,'nov',1970]}\n",
        "\n",
        "print(dic2)\n",
        "{'Pepe':[12, 'febrero', 1980], 'Carolina':[15,'mayo',1975],'Paco':[10,'nov',1970]}\n",
        "```"
      ]
    },
    {
      "cell_type": "code",
      "execution_count": null,
      "metadata": {
        "id": "jeq8b5RkaVOg"
      },
      "outputs": [],
      "source": [
        "# Escribe la función fundicos aquí\n",
        "\n",
        "\"\"\"\n",
        "NOTA: La descripcion del ejercicio indica que la funcion regrese ambos diccionarios (original y modificado), sin embargo la celda de prueba\n",
        "no parece desempaquetar el return de dos objetos, por tanto se apego mas a que coincida con lo que busca la celda de prueba.\n",
        "\"\"\"\n",
        "\n",
        "def fundicos(inp_dict:dict, mod_key, mod_idx:int, new_val):\n",
        "  \"\"\"\n",
        "  Funcion para modificar un diccionario de acorde a los argumentos de entrada\n",
        "\n",
        "  Args:\n",
        "  inp_dict (dict): Diccionario a modificar\n",
        "  mod_key: Llave a la cual se modificara el valor en la lista que contiene\n",
        "  mod_idx (int): Indice en el cual se modificara el valor con new_val\n",
        "  new_val: Valor a insertar en el indice de la lista definido por mod_idx\n",
        "\n",
        "  Returns:\n",
        "    dict: diccionario modificado\n",
        "  \"\"\"\n",
        "\n",
        "  import copy\n",
        "  new_dict = copy.deepcopy(inp_dict)\n",
        "  new_dict[mod_key][mod_idx] = new_val\n",
        "  return new_dict"
      ]
    },
    {
      "cell_type": "code",
      "execution_count": null,
      "metadata": {
        "id": "kFYmX-ktaVOg",
        "outputId": "3ef1a8d7-ef93-4aaf-d337-d626a3d4d74b",
        "colab": {
          "base_uri": "https://localhost:8080/"
        }
      },
      "outputs": [
        {
          "output_type": "stream",
          "name": "stdout",
          "text": [
            "{'Pepe': [12, 'enero', 1980], 'Carolina': [15, 'mayo', 1975], 'Paco': [10, 'nov', 1970]}\n",
            "{'Pepe': [12, 'febrero', 1980], 'Carolina': [15, 'mayo', 1975], 'Paco': [10, 'nov', 1970]}\n"
          ]
        }
      ],
      "source": [
        "# Realiza pruebas de fundicos aquí\n",
        "dic1 = {'Pepe':[12, 'enero', 1980], 'Carolina':[15,'mayo',1975],'Paco':[10,'nov',1970]}\n",
        "dic2 = fundicos(dic1, 'Pepe', 1, 'febrero')\n",
        "\n",
        "print(dic1)\n",
        "print(dic2)"
      ]
    },
    {
      "cell_type": "markdown",
      "metadata": {
        "id": "1vlzCsCNaVOg"
      },
      "source": [
        "### Generadores\n",
        "\n",
        "Escribe un generador que reciba una lista y genere todas las permutaciones que se puedan hacer con los elementos de la lista"
      ]
    },
    {
      "cell_type": "code",
      "execution_count": null,
      "metadata": {
        "id": "wR-77ZZfaVOh"
      },
      "outputs": [],
      "source": [
        "# Escribe aqui fun1\n",
        "\n",
        "def permutaciones(lista):\n",
        "    \"\"\"\n",
        "    Permutaciones de los elementos de una lista.\n",
        "\n",
        "    Devuelve un generador con todas las permutaciones posibles de los elementos de la lista de entrada\n",
        "    \"\"\"\n",
        "    #TODO: Implementar la función\n",
        "    if len(lista) == 0:\n",
        "      yield lista\n",
        "    else:\n",
        "      for (i, elemento) in enumerate(lista):\n",
        "        lista_menos_elem = lista[:i] + lista[i+1:]\n",
        "        for perm in permutaciones(lista_menos_elem):\n",
        "          yield [elemento] + perm"
      ]
    },
    {
      "cell_type": "code",
      "execution_count": null,
      "metadata": {
        "id": "0V31kyi1aVOh",
        "outputId": "1681b8a5-4890-431f-f489-08217eddffe2",
        "colab": {
          "base_uri": "https://localhost:8080/"
        }
      },
      "outputs": [
        {
          "output_type": "stream",
          "name": "stdout",
          "text": [
            "['a', 'b', 'c', 'd']\n",
            "['a', 'b', 'd', 'c']\n",
            "['a', 'c', 'b', 'd']\n",
            "['a', 'c', 'd', 'b']\n",
            "['a', 'd', 'b', 'c']\n",
            "['a', 'd', 'c', 'b']\n",
            "['b', 'a', 'c', 'd']\n",
            "['b', 'a', 'd', 'c']\n",
            "['b', 'c', 'a', 'd']\n",
            "['b', 'c', 'd', 'a']\n",
            "['b', 'd', 'a', 'c']\n",
            "['b', 'd', 'c', 'a']\n",
            "['c', 'a', 'b', 'd']\n",
            "['c', 'a', 'd', 'b']\n",
            "['c', 'b', 'a', 'd']\n",
            "['c', 'b', 'd', 'a']\n",
            "['c', 'd', 'a', 'b']\n",
            "['c', 'd', 'b', 'a']\n",
            "['d', 'a', 'b', 'c']\n",
            "['d', 'a', 'c', 'b']\n",
            "['d', 'b', 'a', 'c']\n",
            "['d', 'b', 'c', 'a']\n",
            "['d', 'c', 'a', 'b']\n",
            "['d', 'c', 'b', 'a']\n"
          ]
        }
      ],
      "source": [
        "# Realiza pruebas de fun2 aquí\n",
        "for p in permutaciones(['a', 'b', 'c', 'd']):\n",
        "    print(p)"
      ]
    },
    {
      "cell_type": "markdown",
      "metadata": {
        "id": "YnKTAzW2aVOh"
      },
      "source": [
        "Ahora escribe una funcipn que reciba 4 digitos del 0 al 9, y devuelva una lista con todas las horas váidas que se puedan hacer con estos dígitos en forma de lista de strings con la forma `\"HH:MM\"`."
      ]
    },
    {
      "cell_type": "code",
      "execution_count": null,
      "metadata": {
        "id": "3i0_HclnaVOh"
      },
      "outputs": [],
      "source": [
        "def horas_validas(lista):\n",
        "    \"\"\"\n",
        "    Funcion para generar horas validas dada una lista de 4 valores de entrada.\n",
        "\n",
        "    Args:\n",
        "      lista (list): Lista de 4 valores.\n",
        "\n",
        "    Returns:\n",
        "\n",
        "      valid_hours (list): Lista de Horas Validas\n",
        "    \"\"\"\n",
        "    #TODO: Implementar la función\n",
        "    valid_hours = []\n",
        "    ref = [2,3,5,9]\n",
        "    for p in permutaciones(lista):\n",
        "      for i, digit in enumerate(p):\n",
        "        isValid=True\n",
        "        if not digit <= ref[i]:\n",
        "          isValid=False\n",
        "          break\n",
        "      if isValid: valid_hours.append(f\"{p[0]}{p[1]}:{p[2]}{p[3]}\")\n",
        "    return valid_hours"
      ]
    },
    {
      "cell_type": "markdown",
      "metadata": {
        "id": "nXQzYpAOaVOh"
      },
      "source": [
        "Validando:"
      ]
    },
    {
      "cell_type": "code",
      "execution_count": null,
      "metadata": {
        "id": "IdjB73PXaVOh",
        "colab": {
          "base_uri": "https://localhost:8080/"
        },
        "outputId": "8da41fe5-8a90-40bc-af47-c38ad2611461"
      },
      "outputs": [
        {
          "output_type": "stream",
          "name": "stdout",
          "text": [
            "['12:34', '12:43', '13:24', '13:42', '21:34', '21:43', '23:14', '23:41']\n"
          ]
        }
      ],
      "source": [
        "print(horas_validas([1,2,3,4]))"
      ]
    },
    {
      "cell_type": "markdown",
      "metadata": {
        "id": "CYjag1claVOh"
      },
      "source": [
        "Escribe una función, lo más compacta posible, que escoja entre los 3 patrones ascii a continuación, e imprima en pantalla\n",
        "el deseado, pero de dimensión $n$ ($n \\ge 4$), toma en cuanta que para algunos valores de $n$ habrá\n",
        "algún(os) patrones que no se puedan hacer.\n",
        "\n",
        "```\n",
        "          *             ++++           oooooooo\n",
        "          **            ++++           ooo  ooo\n",
        "          ***           ++++           oo    oo\n",
        "          ****          ++++           o      o\n",
        "          *****             ++++       o      o\n",
        "          ******            ++++       oo    oo\n",
        "          *******           ++++       ooo  ooo\n",
        "          ********          ++++       oooooooo\n",
        "\n",
        "```"
      ]
    },
    {
      "cell_type": "code",
      "execution_count": null,
      "metadata": {
        "id": "paZvAtDEaVOi"
      },
      "outputs": [],
      "source": [
        "# Escribe aquí la función\n",
        "def ascii_patterns(n:int, pattern:str='rect_tri'):\n",
        "  if n>=4:\n",
        "    if pattern == 'rect_tri': [print(f\"{x*'*'}\\n\") for x in range(1,n+1)]\n",
        "    elif pattern == 'checkered':\n",
        "       [print(f\"{n*'+'}{n*' '}\\n\") for x in range(1,n+1)]\n",
        "       [print(f\"{n*' '}{n*'+'}\\n\") for x in range(1,n+1)]\n",
        "    elif pattern == 'inv_diamond':\n",
        "      if n%2==0:\n",
        "         [print(f\"{int((n/2)-x)*'o'}{int(x*2)*' '}{int((n/2)-x)*'o'}\\n\") for x in range(0,int((n)/2))]\n",
        "         [print(f\"{int((n/2)-x)*'o'}{int(x*2)*' '}{int((n/2)-x)*'o'}\\n\") for x in reversed(range(0,int((n)/2)))]\n",
        "      else:\n",
        "        [print(f\"{int((n)-x)*'o'}{int(x*2)*' '}{int((n/2)-x)*'o'}\\n\") for x in range(0,int((n)/2))]\n",
        "        [print(f\"{int((n)-x)*'o'}{int(x*2)*' '}{int((n/2)-x)*'o'}\\n\") for x in reversed(range(0,int((n)/2)))]\n",
        "\n",
        "    else: print(\"Patron desconocido.\")\n",
        "\n",
        "  else: print(\"No se permiten valores de la dimension 'n' menores a 4.\")"
      ]
    },
    {
      "cell_type": "code",
      "execution_count": null,
      "metadata": {
        "id": "Ouue1c-vaVOi",
        "colab": {
          "base_uri": "https://localhost:8080/"
        },
        "outputId": "b11e295f-7ef0-4cc5-ef27-88557d5b02b4"
      },
      "outputs": [
        {
          "output_type": "stream",
          "name": "stdout",
          "text": [
            "Ejemplo 1\n",
            "\n",
            "\n",
            "*\n",
            "\n",
            "**\n",
            "\n",
            "***\n",
            "\n",
            "****\n",
            "\n",
            "*****\n",
            "\n",
            "******\n",
            "\n",
            "*******\n",
            "\n",
            "\n",
            "Ejemplo 2\n",
            "\n",
            "\n",
            "++++++      \n",
            "\n",
            "++++++      \n",
            "\n",
            "++++++      \n",
            "\n",
            "++++++      \n",
            "\n",
            "++++++      \n",
            "\n",
            "++++++      \n",
            "\n",
            "      ++++++\n",
            "\n",
            "      ++++++\n",
            "\n",
            "      ++++++\n",
            "\n",
            "      ++++++\n",
            "\n",
            "      ++++++\n",
            "\n",
            "      ++++++\n",
            "\n",
            "\n",
            "Ejemplo 3\n",
            "\n",
            "\n",
            "oooooooo\n",
            "\n",
            "ooo  ooo\n",
            "\n",
            "oo    oo\n",
            "\n",
            "o      o\n",
            "\n",
            "o      o\n",
            "\n",
            "oo    oo\n",
            "\n",
            "ooo  ooo\n",
            "\n",
            "oooooooo\n",
            "\n",
            "\n",
            "Ejemplo 4\n",
            "\n",
            "\n",
            "No se permiten valores de la dimension 'n' menores a 4.\n"
          ]
        }
      ],
      "source": [
        "#Realiza pruebas aquí\n",
        "print(\"Ejemplo 1\\n\\n\")\n",
        "ascii_patterns(7)\n",
        "print(\"\\nEjemplo 2\\n\\n\")\n",
        "ascii_patterns(6, pattern='checkered')\n",
        "print(\"\\nEjemplo 3\\n\\n\")\n",
        "ascii_patterns(8, pattern='inv_diamond')\n",
        "print(\"\\nEjemplo 4\\n\\n\")\n",
        "ascii_patterns(1)"
      ]
    },
    {
      "cell_type": "markdown",
      "metadata": {
        "id": "bWmekd-eaVOi"
      },
      "source": [
        "### Clases y objetos\n",
        "\n",
        "Diseña una clase Matriz con las siguientes características:\n",
        "\n",
        "1. Como inicialización de un objeto es necesario conocer $n$, $m$ y tipo. En caso de no proporcionar $m$ la matriz se asume cuadrada de $n \\times n$. En caso de no proporcionar $n$ la matriz tendrá una dimensión de $1 \\times 1$.\n",
        "2. De no especificarse todos los elementos se inicializan a 0, a menos que exista un tipo especial ( `unos` o `diag` por el momento).\n",
        "3. Implementa con sobrecarga la suma de matrices, la multiplicación de matrices y la multiplicación por un escalar.\n",
        "4. Implementa como métodos eliminar columna y eliminar fila.   \n",
        "5. Programa la representación visual de la matriz.\n",
        "6. Ten en cuenta tambien el manejo de errores.\n",
        "\n",
        "\n",
        "Ejemplo de uso:\n",
        "\n",
        "```\n",
        ">>> A = Matriz(n=3, m=4)\n",
        "\n",
        ">>> print(A)\n",
        "0 0 0 0\n",
        "0 0 0 0\n",
        "0 0 0 0\n",
        "\n",
        ">>> A = A.quitafila(2)\n",
        "\n",
        ">>> print(A)\n",
        "0 0 0 0\n",
        "0 0 0 0\n",
        "\n",
        ">>> B = Matriz(4,4,'diag')\n",
        "\n",
        ">>> print(B)\n",
        "1 0 0 0\n",
        "0 1 0 0\n",
        "0 0 1 0\n",
        "0 0 0 1\n",
        "\n",
        ">>> C = Matriz(4,1,'unos')\n",
        "\n",
        ">>> print(C)\n",
        "1\n",
        "1\n",
        "1\n",
        "1\n",
        "\n",
        ">>> D = 3 * B * C\n",
        "\n",
        ">>> print(D)\n",
        "3\n",
        "3\n",
        "3\n",
        "3\n",
        "\n",
        ">>> E = 3 * B + C\n",
        "error \"No seas menso, si no son de la misma dimensión las matrices no se pueden sumar\"\n",
        "```"
      ]
    },
    {
      "cell_type": "code",
      "execution_count": null,
      "metadata": {
        "id": "r-erxu6OaVOi"
      },
      "outputs": [],
      "source": [
        "from os import statvfs\n",
        "# Desarrolla aqui la clase\n",
        "class Matriz:\n",
        "  \"\"\"\n",
        "  Clase para generacion de una matriz con dimensiones nxm.\n",
        "\n",
        "  De tener m faltante, se toma el valor de n.\n",
        "  De tener n faltante, se considera una matriz 1x1.\n",
        "\n",
        "  Args:\n",
        "    n (int): Valor entero representativo de la primer dimension de la matriz.\n",
        "    m (int): Valor entero representativo de la segunda dimension de la matriz\n",
        "    tipo (str): Opciones especificas para el tipo de matriz ['unos', 'diag']\n",
        "\n",
        "  Returns:\n",
        "\n",
        "    Matriz: Objeto tipo Matriz\n",
        "  \"\"\"\n",
        "  def __init__(self, n: int=1, m: int=1, tipo:str=None):\n",
        "\n",
        "    self.matrix = None\n",
        "\n",
        "    if tipo not in ['unos', 'diag', None]: raise Exception(\"No se reconoce el tipo de matriz solicitado.\")\n",
        "    self.tipo = tipo\n",
        "\n",
        "    if not (n!=0 and m!=0): raise Exception(\"Esta clase no admite dimensiones con valor 0\")\n",
        "    self.n = n\n",
        "    self.m = m\n",
        "\n",
        "    try:\n",
        "\n",
        "      diag_col_idx = 0\n",
        "\n",
        "      if self.tipo == 'unos':\n",
        "        self.matrix = [[1 for column in range(self.m)] for x in range(self.n)]\n",
        "\n",
        "      elif self.tipo == 'diag':\n",
        "\n",
        "        if self.n==self.m:\n",
        "          self.matrix = [[0 for column in range(self.m)] for x in range(self.n)]\n",
        "\n",
        "          for row in self.matrix:\n",
        "            row[diag_col_idx] = 1\n",
        "            diag_col_idx += 1\n",
        "\n",
        "        else: raise Exception(\"Para ser tipo diagonal la matriz debe ser cuadrada (n=m)\")\n",
        "\n",
        "      else:\n",
        "        self.matrix = [[0 for column in range(self.m)] for x in range(self.n)]\n",
        "\n",
        "    except Exception as e:\n",
        "      print(e)\n",
        "    return\n",
        "\n",
        "  def quitafila(self, idx:int):\n",
        "    self.matrix.pop(idx)\n",
        "    return self\n",
        "\n",
        "  def quitacolumna(self, idx:int):\n",
        "    if idx <= self.m:\n",
        "      for row in self.matrix:\n",
        "        row.pop(idx)\n",
        "    return self\n",
        "\n",
        "  def __add__(self, other):\n",
        "\n",
        "    if (self.n == other.n) and (self.m == other.m):\n",
        "\n",
        "      for i in range(self.n):\n",
        "        for j in range(self.m):\n",
        "          self.matrix[i][j] = self.matrix[i][j] + other.matrix[i][j]\n",
        "\n",
        "      return self\n",
        "    else: print(\"No seas menso, si no son de la misma dimensión las matrices no se pueden sumar\")\n",
        "\n",
        "  def __mul__(self, other):\n",
        "\n",
        "    if self.m == other.n:\n",
        "      self.matrix = [[sum(a*b for a,b in zip(X_row,Y_col)) for Y_col in zip(*other.matrix)] for X_row in self.matrix]\n",
        "    return self\n",
        "\n",
        "  def __rmul__(self, other):\n",
        "\n",
        "    if isinstance(other, (int, float)):\n",
        "      for i,row in enumerate(self.matrix):\n",
        "        for j,column in enumerate(row):\n",
        "          self.matrix[i][j] *= other\n",
        "      return self\n",
        "\n",
        "  def __repr__(self):\n",
        "    matrix_str='\\n'\n",
        "    for row in self.matrix:\n",
        "      for column in row:\n",
        "        matrix_str += (str(column) + '')\n",
        "      matrix_str += '\\n'\n",
        "      #print(matrix_str)\n",
        "    return matrix_str"
      ]
    },
    {
      "cell_type": "code",
      "execution_count": null,
      "metadata": {
        "id": "cj0458v6aVOi",
        "colab": {
          "base_uri": "https://localhost:8080/"
        },
        "outputId": "bd810be5-8bbd-4fd3-e02e-7806534807d9"
      },
      "outputs": [
        {
          "output_type": "stream",
          "name": "stdout",
          "text": [
            "A = \n",
            "0000\n",
            "0000\n",
            "0000\n",
            "\n",
            "A = \n",
            "0000\n",
            "0000\n",
            "\n",
            "B = \n",
            "1000\n",
            "0100\n",
            "0010\n",
            "0001\n",
            "\n",
            "C = \n",
            "1\n",
            "1\n",
            "1\n",
            "1\n",
            "\n",
            "D = \n",
            "3\n",
            "3\n",
            "3\n",
            "3\n",
            "\n",
            "No seas menso, si no son de la misma dimensión las matrices no se pueden sumar\n",
            "E = None\n"
          ]
        }
      ],
      "source": [
        "# Realiza las pruebas a la clase aquí\n",
        "\n",
        "A = Matriz(n=3, m=4)\n",
        "print('A =', A)\n",
        "\n",
        "A = A.quitafila(2)\n",
        "print('A =', A)\n",
        "\n",
        "B = Matriz(4,4,'diag')\n",
        "print('B =', B)\n",
        "\n",
        "C = Matriz(4,1,'unos')\n",
        "print('C =', C)\n",
        "\n",
        "D = 3 * B * C\n",
        "print('D =', D)\n",
        "\n",
        "E = 3 * B + C\n",
        "print('E =', E)"
      ]
    }
  ],
  "metadata": {
    "kernelspec": {
      "display_name": "ing-caract",
      "language": "python",
      "name": "python3"
    },
    "language_info": {
      "codemirror_mode": {
        "name": "ipython",
        "version": 3
      },
      "file_extension": ".py",
      "mimetype": "text/x-python",
      "name": "python",
      "nbconvert_exporter": "python",
      "pygments_lexer": "ipython3",
      "version": "3.8.13"
    },
    "orig_nbformat": 4,
    "colab": {
      "provenance": [],
      "toc_visible": true
    }
  },
  "nbformat": 4,
  "nbformat_minor": 0
}